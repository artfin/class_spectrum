{
 "cells": [
  {
   "cell_type": "code",
   "execution_count": null,
   "metadata": {},
   "outputs": [],
   "source": [
    "%matplotlib notebook\n",
    "import matplotlib.pyplot as plt\n",
    "\n",
    "def read_file( filename, n ):\n",
    "    with open(filename, mode = 'r') as inputfile:\n",
    "        lines = inputfile.readlines()\n",
    "        \n",
    "    lists = [ [] for _ in range(n) ]\n",
    "    for line in lines:\n",
    "        data = line.split()\n",
    "        \n",
    "        for l, content in zip(lists, data):\n",
    "            l.append( float(content) )\n",
    "    return lists\n",
    "\n",
    "t, r, theta, pr, ptheta = read_file( 'trajectory.txt', 5 )\n",
    "\n",
    "fig = plt.figure()\n",
    "plt.plot( t, r, color = 'k', lw = 2.0 )\n",
    "plt.plot( t, theta, color = 'r', lw = 2.0 )\n",
    "plt.grid( linestyle = ':', alpha = 0.7 )"
   ]
  },
  {
   "cell_type": "code",
   "execution_count": null,
   "metadata": {},
   "outputs": [],
   "source": [
    "freqs, spectrum = read_file( 'spectrum_eq_mean_classical.txt', 2 )\n",
    "fig = plt.figure()\n",
    "plt.plot( freqs, spectrum, color = 'k', lw = 2.0 )\n",
    "plt.grid( linestyle = ':', alpha = 0.7 )"
   ]
  }
 ],
 "metadata": {
  "kernelspec": {
   "display_name": "Python 2",
   "language": "python",
   "name": "python2"
  },
  "language_info": {
   "codemirror_mode": {
    "name": "ipython",
    "version": 2
   },
   "file_extension": ".py",
   "mimetype": "text/x-python",
   "name": "python",
   "nbconvert_exporter": "python",
   "pygments_lexer": "ipython2",
   "version": "2.7.12"
  }
 },
 "nbformat": 4,
 "nbformat_minor": 2
}
