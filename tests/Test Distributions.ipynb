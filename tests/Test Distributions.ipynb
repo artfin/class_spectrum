{
 "cells": [
  {
   "cell_type": "code",
   "execution_count": null,
   "metadata": {},
   "outputs": [],
   "source": [
    "%matplotlib notebook\n",
    "\n",
    "import matplotlib as mpl\n",
    "import matplotlib.pyplot as plt\n",
    "import numpy as np\n",
    "\n",
    "from os import listdir\n",
    "from os.path import isfile, join\n",
    "\n",
    "def read_file( filename, n ):\n",
    "    with open(filename, mode = 'r') as inputfile:\n",
    "        lines = inputfile.readlines()\n",
    "        \n",
    "    lists = [ [] for _ in range(n) ]\n",
    "    for line in lines:\n",
    "        data = line.split()\n",
    "        \n",
    "        for l, content in zip(lists, data):\n",
    "            l.append( float(content) )\n",
    "    return lists\n",
    "\n",
    "\n",
    "def plot_distribution( lbounds, ubounds, probability, title ):\n",
    "    means = [0.5 * (lb + ub) for lb, ub in zip(lbounds, ubounds)]\n",
    "    \n",
    "    fig = plt.figure()\n",
    "    plt.title(title)\n",
    "    plt.ylim([0, 1.1 * max(probability)])\n",
    "    plt.scatter( means, probability, s = 10, color = 'k', marker = 'o' )\n",
    "    plt.grid( linestyle = ':', alpha = 0.7 )"
   ]
  },
  {
   "cell_type": "code",
   "execution_count": null,
   "metadata": {},
   "outputs": [],
   "source": [
    "lb, ub, pR = read_file( 'pR_pot2.txt', 3)\n",
    "plot_distribution( lb, ub, pR, 'R distribution (a.u.)' )"
   ]
  },
  {
   "cell_type": "code",
   "execution_count": null,
   "metadata": {},
   "outputs": [],
   "source": [
    "with open( '../results/equilibrium_mean/50000new/full_mcmc_he_ar.out') as inputfile:\n",
    "    lines = inputfile.readlines()\n",
    "\n",
    "r_distribution = []\n",
    "pr_distribution = []\n",
    "theta_distribution = []\n",
    "pt_distribution = []\n",
    "\n",
    "for line in lines:\n",
    "    if 'Generated' in line:\n",
    "        data = line.split()\n",
    "        r_distribution.append( float(data[4].split(';')[0]) )\n",
    "        theta_distribution.append( float(data[7].split(';')[0]) )\n",
    "        pr_distribution.append( float(data[10].split(';')[0]) )\n",
    "        pt_distribution.append( float(data[13].split(';')[0]) )\n",
    "        \n",
    "fig = plt.figure()\n",
    "plt.hist( r_distribution, bins = 50 )"
   ]
  }
 ],
 "metadata": {
  "kernelspec": {
   "display_name": "Python 2",
   "language": "python",
   "name": "python2"
  },
  "language_info": {
   "codemirror_mode": {
    "name": "ipython",
    "version": 2
   },
   "file_extension": ".py",
   "mimetype": "text/x-python",
   "name": "python",
   "nbconvert_exporter": "python",
   "pygments_lexer": "ipython2",
   "version": "2.7.12"
  }
 },
 "nbformat": 4,
 "nbformat_minor": 2
}
