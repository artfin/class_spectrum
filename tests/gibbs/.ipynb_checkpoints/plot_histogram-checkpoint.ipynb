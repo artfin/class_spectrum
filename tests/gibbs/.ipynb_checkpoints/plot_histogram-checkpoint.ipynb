{
 "cells": [
  {
   "cell_type": "code",
   "execution_count": null,
   "metadata": {},
   "outputs": [],
   "source": [
    "%matplotlib notebook\n",
    "\n",
    "import matplotlib.pyplot as plt\n",
    "import numpy as np\n",
    "\n",
    "histogram = np.loadtxt('function_histogram.dat')\n",
    "\n",
    "# будем ставить точки на scatter-plot'e в центр соотвествующих корзинок\n",
    "binCenters = 0.5 * (histogram[:, 0] + histogram[:, 1])\n",
    "\n",
    "plt.scatter( binCenters, histogram[:,2], color = 'k', s = 4)\n",
    "plt.grid(linestyle = ':', alpha = 0.7)"
   ]
  },
  {
   "cell_type": "code",
   "execution_count": null,
   "metadata": {},
   "outputs": [],
   "source": [
    "# сумма элементов по столбцам \n",
    "# print(histogram.sum(axis = 0))\n",
    "\n",
    "# сумма элементов по строкам\n",
    "# print(histogram.sum(axis = 1))"
   ]
  },
  {
   "cell_type": "code",
   "execution_count": null,
   "metadata": {},
   "outputs": [],
   "source": []
  }
 ],
 "metadata": {
  "kernelspec": {
   "display_name": "Python 2",
   "language": "python",
   "name": "python2"
  },
  "language_info": {
   "codemirror_mode": {
    "name": "ipython",
    "version": 2
   },
   "file_extension": ".py",
   "mimetype": "text/x-python",
   "name": "python",
   "nbconvert_exporter": "python",
   "pygments_lexer": "ipython2",
   "version": "2.7.12"
  }
 },
 "nbformat": 4,
 "nbformat_minor": 2
}
