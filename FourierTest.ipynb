{
 "cells": [
  {
   "cell_type": "code",
   "execution_count": null,
   "metadata": {},
   "outputs": [],
   "source": [
    "%matplotlib notebook\n",
    "\n",
    "import matplotlib.pyplot as plt\n",
    "\n",
    "def read_file( filename, n ):\n",
    "    with open(filename, 'r') as inputfile:\n",
    "        lines = inputfile.readlines()\n",
    "    \n",
    "    lists = [ [] for _ in range(n) ]\n",
    "\n",
    "    for line in lines:\n",
    "        data = line.split()\n",
    "        \n",
    "        for index, l in enumerate(lists):\n",
    "            l.append( float(data[index]) )\n",
    "       \n",
    "    return lists"
   ]
  },
  {
   "cell_type": "code",
   "execution_count": null,
   "metadata": {},
   "outputs": [],
   "source": [
    "with open('equilibrium_correlation.txt', 'r') as inputfile:\n",
    "    lines = inputfile.readlines()\n",
    "    \n",
    "correlation = []\n",
    "for line in lines:\n",
    "    data = line.split()\n",
    "    correlation.append( float(data[0]) )\n",
    "\n",
    "fig = plt.figure()\n",
    "plt.plot(correlation[0:500], color = 'k')\n",
    "plt.grid(linestyle = ':', alpha = 0.7)"
   ]
  },
  {
   "cell_type": "code",
   "execution_count": null,
   "metadata": {},
   "outputs": [],
   "source": [
    "with open('fourier_in.txt', 'r') as inputfile:\n",
    "    lines = inputfile.readlines()\n",
    "    \n",
    "fourier_in = []\n",
    "for line in lines:\n",
    "    fourier_in.append( float(line.split()[0]) )\n",
    "    \n",
    "fig = plt.figure()\n",
    "plt.plot( fourier_in[:5000], color = 'k' )\n",
    "\n",
    "plt.grid(linestyle = ':', alpha = 0.7)"
   ]
  },
  {
   "cell_type": "code",
   "execution_count": null,
   "metadata": {},
   "outputs": [],
   "source": [
    "with open('fourier_out.txt', 'r') as inputfile:\n",
    "    lines = inputfile.readlines()\n",
    "    \n",
    "fourier_out = []\n",
    "for line in lines:\n",
    "    fourier_out.append( float(line.split()[0]) )\n",
    "    \n",
    "fig = plt.figure()\n",
    "plt.plot( fourier_out[:3000], color = 'k' )\n",
    "\n",
    "plt.grid(linestyle = ':', alpha = 0.7)\n",
    "\n",
    "#real_component, complex_component = read_file( 'fourier_out.txt', 2 )\n",
    "\n",
    "#fig = plt.figure()\n",
    "#plt.plot( real_component[0:1000][1::2], color = 'k' )\n",
    "#plt.plot( complex_component[0:1000], color = 'r' )\n",
    "\n",
    "#plt.grid(linestyle = ':', alpha = 0.7)"
   ]
  },
  {
   "cell_type": "code",
   "execution_count": null,
   "metadata": {},
   "outputs": [],
   "source": [
    "freqs, specfunc = read_file( 'specfunc_total.txt', 2 )\n",
    "\n",
    "fig = plt.figure()\n",
    "plt.xlim((0.0, 550))\n",
    "#plt.ylim((0.01 * 1.05 * specfunc[0], 1.05 * specfunc[0]))\n",
    "plt.semilogy(freqs, specfunc, color = 'k')\n",
    "plt.grid(linestyle = ':', alpha = 0.7)"
   ]
  },
  {
   "cell_type": "code",
   "execution_count": null,
   "metadata": {},
   "outputs": [],
   "source": [
    "freqs, spectrum = read_file( 'spectrum_total.txt', 2 )\n",
    "\n",
    "fig = plt.figure()\n",
    "plt.plot( freqs, spectrum, color = 'k' )\n",
    "plt.grid( linestyle = ':', alpha = 0.7 )"
   ]
  }
 ],
 "metadata": {
  "kernelspec": {
   "display_name": "Python 2",
   "language": "python",
   "name": "python2"
  },
  "language_info": {
   "codemirror_mode": {
    "name": "ipython",
    "version": 2
   },
   "file_extension": ".py",
   "mimetype": "text/x-python",
   "name": "python",
   "nbconvert_exporter": "python",
   "pygments_lexer": "ipython2",
   "version": "2.7.12"
  }
 },
 "nbformat": 4,
 "nbformat_minor": 2
}
