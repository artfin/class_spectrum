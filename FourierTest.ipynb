{
 "cells": [
  {
   "cell_type": "code",
   "execution_count": null,
   "metadata": {},
   "outputs": [],
   "source": [
    "%matplotlib notebook\n",
    "\n",
    "import matplotlib.pyplot as plt\n",
    "\n",
    "def read_file( filename, n ):\n",
    "    with open(filename, 'r') as inputfile:\n",
    "        lines = inputfile.readlines()\n",
    "    \n",
    "    lists = [ [] for _ in range(n) ]\n",
    "\n",
    "    for line in lines:\n",
    "        data = line.split()\n",
    "        \n",
    "        for index, l in enumerate(lists):\n",
    "            l.append( float(data[index]) )\n",
    "       \n",
    "    return lists"
   ]
  },
  {
   "cell_type": "code",
   "execution_count": null,
   "metadata": {},
   "outputs": [],
   "source": [
    "with open('equilibrium_correlation_dt=50.txt', 'r') as inputfile:\n",
    "    lines = inputfile.readlines()\n",
    "    \n",
    "correlation = []\n",
    "for line in lines:\n",
    "    data = line.split()\n",
    "    correlation.append( float(data[0]) )\n",
    "\n",
    "fig = plt.figure()\n",
    "plt.plot(correlation[65000:66000], color = 'k')\n",
    "plt.ylim( (-1e-63, 0))\n",
    "plt.grid(linestyle = ':', alpha = 0.7)"
   ]
  },
  {
   "cell_type": "code",
   "execution_count": null,
   "metadata": {},
   "outputs": [],
   "source": [
    "real_component, complex_component = read_file( 'fourier_out.txt', 2 )\n",
    "\n",
    "fig = plt.figure()\n",
    "plt.plot( real_component[0:6000][1::2], color = 'k' )\n",
    "plt.plot( complex_component[0:6000], color = 'r' )\n",
    "\n",
    "plt.grid(linestyle = ':', alpha = 0.7)"
   ]
  },
  {
   "cell_type": "code",
   "execution_count": null,
   "metadata": {},
   "outputs": [],
   "source": [
    "freqs, specfunc = read_file( 'specfunc_total.txt', 2 )\n",
    "\n",
    "fig = plt.figure()\n",
    "plt.semilogy(freqs, specfunc, color = 'k')\n",
    "plt.grid(linestyle = ':', alpha = 0.7)"
   ]
  },
  {
   "cell_type": "code",
   "execution_count": null,
   "metadata": {},
   "outputs": [],
   "source": [
    "freqs, spectrum = read_file( 'spectrum_total.txt', 2 )\n",
    "\n",
    "fig = plt.figure()\n",
    "plt.plot( freqs, spectrum, color = 'k' )\n",
    "plt.grid( linestyle = ':', alpha = 0.7 )"
   ]
  },
  {
   "cell_type": "code",
   "execution_count": null,
   "metadata": {},
   "outputs": [],
   "source": [
    "trajectory_correlation_function = read_file(\"equilibrium_correlation.txt\", 1)[0]\n",
    "#maxElement = max(trajectory_correlation_function)\n",
    "#trajectory_correlation_function = [ _ / maxElement for _ in trajectory_correlation_function]\n",
    "\n",
    "timeDelta = 50 * 2.418 * 10**(-17)\n",
    "time = [i * timeDelta for i in range(0, len(trajectory_correlation_function))]\n",
    "\n",
    "size = len(trajectory_correlation_function)\n",
    "NMax = 500\n",
    "\n",
    "fig = plt.figure()\n",
    "#plt.plot(time[size/2-NMax:size/2 + NMax], trajectory_correlation_function[size/2-NMax:size/2 + NMax], color = 'k')\n",
    "plt.plot(time[:NMax], trajectory_correlation_function[:NMax], color = 'k')\n",
    "plt.grid(linestyle = ':', alpha = 0.7)"
   ]
  },
  {
   "cell_type": "code",
   "execution_count": null,
   "metadata": {},
   "outputs": [],
   "source": [
    "equilibrium_correlation_reversed = [ _ for _ in reversed(trajectory_correlation_function)]\n",
    "with open('symmetrizedNEW.txt', 'w') as outfile:\n",
    "    for _ in equilibrium_correlation_reversed:\n",
    "        outfile.write(str(_) + '\\n')\n",
    "    for _ in trajectory_correlation_function[1:]:\n",
    "        outfile.write(str(_) + '\\n')"
   ]
  }
 ],
 "metadata": {
  "kernelspec": {
   "display_name": "Python 2",
   "language": "python",
   "name": "python2"
  },
  "language_info": {
   "codemirror_mode": {
    "name": "ipython",
    "version": 2
   },
   "file_extension": ".py",
   "mimetype": "text/x-python",
   "name": "python",
   "nbconvert_exporter": "python",
   "pygments_lexer": "ipython2",
   "version": "2.7.12"
  }
 },
 "nbformat": 4,
 "nbformat_minor": 2
}
