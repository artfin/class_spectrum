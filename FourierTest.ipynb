{
 "cells": [
  {
   "cell_type": "code",
   "execution_count": null,
   "metadata": {},
   "outputs": [],
   "source": [
    "%matplotlib notebook\n",
    "\n",
    "import matplotlib.pyplot as plt\n",
    "\n",
    "def read_file( filename, n ):\n",
    "    with open(filename, 'r') as inputfile:\n",
    "        lines = inputfile.readlines()\n",
    "    \n",
    "    lists = [ [] for _ in range(n) ]\n",
    "\n",
    "    for line in lines:\n",
    "        data = line.split()\n",
    "        \n",
    "        for index, l in enumerate(lists):\n",
    "            l.append( float(data[index]) )\n",
    "       \n",
    "    return lists"
   ]
  },
  {
   "cell_type": "code",
   "execution_count": null,
   "metadata": {},
   "outputs": [],
   "source": [
    "real_component, complex_component = read_file( 'fourier_out.txt', 2 )\n",
    "\n",
    "fig = plt.figure()\n",
    "plt.plot( [s**2 for s in real_component[:1300]], color = 'k' )\n",
    "#plt.plot( complex_component, color = 'r' )\n",
    "\n",
    "plt.grid(linestyle = ':', alpha = 0.7)"
   ]
  },
  {
   "cell_type": "code",
   "execution_count": null,
   "metadata": {},
   "outputs": [],
   "source": [
    "with open('fourier_in.txt', 'r') as inputfile:\n",
    "    lines = inputfile.readlines()\n",
    "    \n",
    "fourier_in = []\n",
    "for line in lines:\n",
    "    data = line.split()\n",
    "    fourier_in.append( float(data[0]) )\n",
    "\n",
    "fig = plt.figure()\n",
    "#plt.plot(fourier_in, color = 'k')\n",
    "plt.plot(fourier_in[127000:135000], color = 'k')\n",
    "plt.grid(linestyle = ':', alpha = 0.7)"
   ]
  },
  {
   "cell_type": "code",
   "execution_count": null,
   "metadata": {},
   "outputs": [],
   "source": []
  }
 ],
 "metadata": {
  "kernelspec": {
   "display_name": "Python 2",
   "language": "python",
   "name": "python2"
  },
  "language_info": {
   "codemirror_mode": {
    "name": "ipython",
    "version": 2
   },
   "file_extension": ".py",
   "mimetype": "text/x-python",
   "name": "python",
   "nbconvert_exporter": "python",
   "pygments_lexer": "ipython2",
   "version": "2.7.12"
  }
 },
 "nbformat": 4,
 "nbformat_minor": 2
}
