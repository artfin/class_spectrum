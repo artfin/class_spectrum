{
 "cells": [
  {
   "cell_type": "code",
   "execution_count": null,
   "metadata": {},
   "outputs": [],
   "source": [
    "%matplotlib notebook\n",
    "\n",
    "import matplotlib as mpl\n",
    "import matplotlib.pyplot as plt\n",
    "import numpy as np\n",
    "\n",
    "from os import listdir\n",
    "from os.path import isfile, join\n",
    "\n",
    "# matplotlib plotting parameters\n",
    "mpl.rcParams['text.usetex'] = True\n",
    "mpl.rcParams['text.latex.unicode'] = True\n",
    "\n",
    "mpl.rcParams['font.family'] = 'serif'\n",
    "mpl.rcParams['font.serif'] = 'Times'\n",
    "mpl.rcParams['figure.titlesize'] = 'xx-large'\n",
    "mpl.rcParams['axes.labelsize'] = 'x-large'\n",
    "mpl.rcParams['axes.titlesize'] = 'large'\n",
    "mpl.rcParams['xtick.labelsize'] = 'large'\n",
    "mpl.rcParams['ytick.labelsize'] = 'large'\n",
    "\n",
    "def read_file( filename, n ):\n",
    "    with open(filename, mode = 'r') as inputfile:\n",
    "        lines = inputfile.readlines()\n",
    "        \n",
    "    lists = [ [] for _ in range(n) ]\n",
    "    for line in lines:\n",
    "        data = line.split()\n",
    "        \n",
    "        for l, content in zip(lists, data):\n",
    "            l.append( float(content) )\n",
    "    return lists\n",
    "\n",
    "def list_files_in_dir( path ): \n",
    "    return [join(path, f) for f in listdir(path) if isfile(join(path, f))]\n",
    "\n",
    "def chunker(seq, size):\n",
    "    return (tuple(seq[pos:pos+size]) for pos in xrange(0, len(seq), size))        \n",
    "        \n",
    "def mean( group ):\n",
    "    return np.mean(group, axis = 0)\n",
    "        \n",
    "def group_by( lists, size ):\n",
    "    res = []\n",
    "   \n",
    "    for group in chunker(range(len(lists)), size):\n",
    "        res.append( mean([lists[g] for g in group]) )\n",
    "    \n",
    "    return res\n",
    "\n",
    "def plot_distribution( lbounds, ubounds, probability, title ):\n",
    "    means = [0.5 * (lb + ub) for lb, ub in zip(lbounds, ubounds)]\n",
    "    \n",
    "    fig = plt.figure()\n",
    "    plt.title(title)\n",
    "    plt.ylim([0, 1.1 * max(probability)])\n",
    "    plt.scatter( means, probability, s = 10, color = 'k', marker = 'o' )\n",
    "    plt.grid( linestyle = ':', alpha = 0.7 )"
   ]
  },
  {
   "cell_type": "code",
   "execution_count": null,
   "metadata": {},
   "outputs": [],
   "source": [
    "lb, ub, pR = read_file( 'mcmc_generator/50000/pR.txt', 3)\n",
    "plot_distribution( lb, ub, pR, 'pR distribution (a.u.)' )\n",
    "\n",
    "lb, ub, pR  = read_file( 'mcmc_generator/50000_2/pR.txt', 3)\n",
    "plot_distribution( lb, ub, pR, 'pR distribution (a.u.)' )"
   ]
  },
  {
   "cell_type": "code",
   "execution_count": null,
   "metadata": {},
   "outputs": [],
   "source": [
    "lb, ub, pT = read_file( 'mcmc_generator/50000/pT.txt', 3)\n",
    "plot_distribution( lb, ub, pT, 'pT distribution (a.u.)' )\n",
    "\n",
    "lb, ub, pT = read_file( 'mcmc_generator/50000_2/pT.txt', 3)\n",
    "plot_distribution( lb, ub, pT, 'pT distribution (a.u.)' )"
   ]
  },
  {
   "cell_type": "code",
   "execution_count": null,
   "metadata": {},
   "outputs": [],
   "source": [
    "lb, ub, Theta = read_file( 'mcmc_generator/50000/theta.txt', 3)\n",
    "plot_distribution( lb, ub, Theta, 'Theta distribution')\n",
    "\n",
    "lb, ub, Theta = read_file( 'mcmc_generator/50000_2/theta.txt', 3)\n",
    "plot_distribution( lb, ub, Theta, 'Theta distribution')"
   ]
  }
 ],
 "metadata": {
  "kernelspec": {
   "display_name": "Python 2",
   "language": "python",
   "name": "python2"
  },
  "language_info": {
   "codemirror_mode": {
    "name": "ipython",
    "version": 2
   },
   "file_extension": ".py",
   "mimetype": "text/x-python",
   "name": "python",
   "nbconvert_exporter": "python",
   "pygments_lexer": "ipython2",
   "version": "2.7.12"
  }
 },
 "nbformat": 4,
 "nbformat_minor": 2
}
