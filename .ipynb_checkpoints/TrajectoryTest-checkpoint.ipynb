{
 "cells": [
  {
   "cell_type": "code",
   "execution_count": null,
   "metadata": {},
   "outputs": [],
   "source": [
    "%matplotlib notebook\n",
    "import matplotlib.pyplot as plt\n",
    "\n",
    "def read_file( filename, n ):\n",
    "    with open(filename, mode = 'r') as inputfile:\n",
    "        lines = inputfile.readlines()\n",
    "        \n",
    "    lists = [ [] for _ in range(n) ]\n",
    "    for line in lines:\n",
    "        data = line.split()\n",
    "        \n",
    "        for l, content in zip(lists, data):\n",
    "            l.append( float(content) )\n",
    "    return lists"
   ]
  },
  {
   "cell_type": "code",
   "execution_count": null,
   "metadata": {},
   "outputs": [],
   "source": [
    "fig = plt.figure()\n",
    "\n",
    "# numbers: 2 - довольно интересный спектр\n",
    "\n",
    "number = 18\n",
    "\n",
    "filename = 'trajectory_test/back_trajectory_' + str(number) + '.txt'\n",
    "t_back, r_back, pr_back, theta_back, pt_back = read_file( filename, 5 )\n",
    "\n",
    "filename = 'trajectory_test/forw_trajectory_' + str(number) + '.txt'\n",
    "t_forw, r_forw, pr_forw, theta_forw, pt_forw = read_file( filename, 5 )\n",
    "\n",
    "r = r_forw[::-1] + r_back\n",
    "theta = theta_forw[::-1] + theta_back\n",
    "pr = [-p_ for p_ in pr_forw[::-1]] + pr_back\n",
    "pt = [-p_ for p_ in pt_forw[::-1]] + pt_back\n",
    "t = [-t_ for t_ in t_forw[::-1]] + t_back\n",
    "\n",
    "plt.plot( t, r, color = 'k', lw = 2.0 )\n",
    "plt.plot( t, theta, color = 'g', lw = 2.0 )\n",
    "plt.plot( t, pr, color = 'b', lw = 2.0 )\n",
    "plt.plot( t, pt, color = 'r', lw = 2.0 )\n",
    "plt.grid( linestyle = ':', alpha = 0.7 )"
   ]
  },
  {
   "cell_type": "code",
   "execution_count": null,
   "metadata": {},
   "outputs": [],
   "source": [
    "lb = 1\n",
    "rb = 99\n",
    "\n",
    "fig = plt.figure()\n",
    "\n",
    "for i in range(lb, rb, 1):\n",
    "    filename = 'test_trajectories2/temp' + str(i) + '.txt'\n",
    "    freqs, spectrum = read_file( filename, 2 )\n",
    "    plt.plot( freqs, spectrum, color = '0.6', lw = 2.0 )\n",
    "\n",
    "plt.grid( linestyle = ':', alpha = 0.7 )"
   ]
  },
  {
   "cell_type": "code",
   "execution_count": null,
   "metadata": {},
   "outputs": [],
   "source": [
    "freqs, spectrum = read_file( 'temp1.txt', 2 )\n",
    "\n",
    "plt.figure()\n",
    "plt.plot( freqs, spectrum, color = '0.6', lw = 2.0 )\n",
    "\n",
    "plt.grid( linestyle = ':', alpha = 0.7 )"
   ]
  }
 ],
 "metadata": {
  "kernelspec": {
   "display_name": "Python 2",
   "language": "python",
   "name": "python2"
  },
  "language_info": {
   "codemirror_mode": {
    "name": "ipython",
    "version": 2
   },
   "file_extension": ".py",
   "mimetype": "text/x-python",
   "name": "python",
   "nbconvert_exporter": "python",
   "pygments_lexer": "ipython2",
   "version": "2.7.12"
  }
 },
 "nbformat": 4,
 "nbformat_minor": 2
}
