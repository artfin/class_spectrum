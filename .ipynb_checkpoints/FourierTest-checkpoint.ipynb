{
 "cells": [
  {
   "cell_type": "code",
   "execution_count": null,
   "metadata": {},
   "outputs": [],
   "source": [
    "%matplotlib notebook\n",
    "\n",
    "import matplotlib.pyplot as plt\n",
    "\n",
    "def read_file( filename, n ):\n",
    "    with open(filename, 'r') as inputfile:\n",
    "        lines = inputfile.readlines()\n",
    "    \n",
    "    lists = [ [] for _ in range(n) ]\n",
    "\n",
    "    for line in lines:\n",
    "        data = line.split()\n",
    "        \n",
    "        for index, l in enumerate(lists):\n",
    "            l.append( float(data[index]) )\n",
    "       \n",
    "    return lists\n",
    "\n",
    "fig = plt.figure()\n",
    "\n",
    "fourier_input = read_file( 'fourier_in.txt', 1 )\n",
    "real_component, complex_component = read_file( 'fourier_out.txt', 2 )\n",
    "\n",
    "# plt.plot( fourier_input[:10], color = 'k' )\n",
    "plt.plot( real_component[:1500], color = 'k' )\n",
    "#plt.plot( complex_component[:1500], color = 'r' )"
   ]
  }
 ],
 "metadata": {
  "kernelspec": {
   "display_name": "Python 2",
   "language": "python",
   "name": "python2"
  },
  "language_info": {
   "codemirror_mode": {
    "name": "ipython",
    "version": 2
   },
   "file_extension": ".py",
   "mimetype": "text/x-python",
   "name": "python",
   "nbconvert_exporter": "python",
   "pygments_lexer": "ipython2",
   "version": "2.7.12"
  }
 },
 "nbformat": 4,
 "nbformat_minor": 2
}
